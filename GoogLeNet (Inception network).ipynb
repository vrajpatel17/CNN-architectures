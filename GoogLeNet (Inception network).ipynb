{
 "cells": [
  {
   "cell_type": "code",
   "execution_count": 1,
   "metadata": {},
   "outputs": [],
   "source": [
    "import numpy as np\n",
    "import pandas as pd\n",
    "import cv2\n",
    "import tensorflow as tf\n",
    "import keras\n",
    "import matplotlib.pyplot as plt\n",
    "from keras.preprocessing.image import ImageDataGenerator\n",
    "from keras.preprocessing import image\n",
    "from keras.models import Sequential\n",
    "from keras.layers import Dense, Conv2D, MaxPooling2D, Flatten, AveragePooling2D, Dropout, Input\n",
    "from keras import models\n",
    "from keras.models import Model\n",
    "from keras.utils.vis_utils import plot_model"
   ]
  },
  {
   "cell_type": "code",
   "execution_count": 2,
   "metadata": {},
   "outputs": [],
   "source": [
    "test_data = 'test'\n",
    "train_data = 'train'"
   ]
  },
  {
   "cell_type": "code",
   "execution_count": 3,
   "metadata": {},
   "outputs": [],
   "source": [
    "train_datagen = ImageDataGenerator()\n",
    "test_datagen = ImageDataGenerator()"
   ]
  },
  {
   "cell_type": "code",
   "execution_count": 4,
   "metadata": {},
   "outputs": [
    {
     "name": "stdout",
     "output_type": "stream",
     "text": [
      "Found 14407 images belonging to 10 classes.\n"
     ]
    }
   ],
   "source": [
    "train_set = train_datagen.flow_from_directory(train_data,\n",
    "                    target_size = (48,48),\n",
    "                    batch_size = 32,\n",
    "                    color_mode = 'grayscale',\n",
    "                    shuffle = True,\n",
    "                    class_mode = 'categorical')"
   ]
  },
  {
   "cell_type": "code",
   "execution_count": 5,
   "metadata": {},
   "outputs": [
    {
     "name": "stdout",
     "output_type": "stream",
     "text": [
      "Found 3602 images belonging to 10 classes.\n"
     ]
    }
   ],
   "source": [
    "test_set = test_datagen.flow_from_directory(test_data,\n",
    "                    target_size = (48,48),\n",
    "                    batch_size = 32,\n",
    "                    color_mode = 'grayscale',\n",
    "                    shuffle = True,\n",
    "                    class_mode = 'categorical')"
   ]
  },
  {
   "cell_type": "code",
   "execution_count": 6,
   "metadata": {},
   "outputs": [],
   "source": [
    "input_img = Input(shape=(48,48,1))\n",
    "\n",
    "### 1st layer\n",
    "layer_1 = Conv2D(10, (1,1), padding='same', activation='relu')(input_img)\n",
    "layer_1 = Conv2D(10, (3,3), padding='same', activation='relu')(layer_1)\n",
    "\n",
    "layer_2 = Conv2D(10, (1,1), padding='same', activation='relu')(input_img)\n",
    "layer_2 = Conv2D(10, (5,5), padding='same', activation='relu')(layer_2)\n",
    "\n",
    "layer_3 = MaxPooling2D((3,3), strides=(1,1), padding='same')(input_img)\n",
    "layer_3 = Conv2D(10, (1,1), padding='same', activation='relu')(layer_3)\n",
    "\n",
    "mid_1 = tf.keras.layers.concatenate([layer_1, layer_2, layer_3], axis = 3)"
   ]
  },
  {
   "cell_type": "code",
   "execution_count": 7,
   "metadata": {},
   "outputs": [],
   "source": [
    "flat_1 = Flatten()(mid_1)\n",
    "\n",
    "dense_1 = Dense(1200, activation='relu')(flat_1)\n",
    "dense_2 = Dense(600, activation='relu')(dense_1)\n",
    "dense_3 = Dense(150, activation='relu')(dense_2)\n",
    "output = Dense(10, activation='softmax')(dense_3)"
   ]
  },
  {
   "cell_type": "code",
   "execution_count": 8,
   "metadata": {},
   "outputs": [],
   "source": [
    "model = Model([input_img], output)"
   ]
  },
  {
   "cell_type": "code",
   "execution_count": 9,
   "metadata": {},
   "outputs": [],
   "source": [
    "model.compile(optimizer='adam', loss='categorical_crossentropy', metrics=['accuracy'])"
   ]
  },
  {
   "cell_type": "code",
   "execution_count": 10,
   "metadata": {},
   "outputs": [
    {
     "name": "stdout",
     "output_type": "stream",
     "text": [
      "Epoch 1/20\n",
      "100/100 [==============================] - 7s 74ms/step - loss: 51.8297 - accuracy: 0.7362 - val_loss: 6.0578 - val_accuracy: 0.8037\n",
      "Epoch 2/20\n",
      "100/100 [==============================] - 7s 70ms/step - loss: 2.9132 - accuracy: 0.8981 - val_loss: 1.4612 - val_accuracy: 0.9244\n",
      "Epoch 3/20\n",
      "100/100 [==============================] - 7s 68ms/step - loss: 1.2937 - accuracy: 0.9331 - val_loss: 1.0294 - val_accuracy: 0.9344\n",
      "Epoch 4/20\n",
      "100/100 [==============================] - 7s 68ms/step - loss: 0.6879 - accuracy: 0.9450 - val_loss: 0.9024 - val_accuracy: 0.9406\n",
      "Epoch 5/20\n",
      "100/100 [==============================] - 7s 68ms/step - loss: 0.6397 - accuracy: 0.9519 - val_loss: 0.8354 - val_accuracy: 0.9397\n",
      "Epoch 6/20\n",
      "100/100 [==============================] - 7s 67ms/step - loss: 0.6687 - accuracy: 0.9469 - val_loss: 1.0135 - val_accuracy: 0.9156\n",
      "Epoch 7/20\n",
      "100/100 [==============================] - 7s 70ms/step - loss: 0.4156 - accuracy: 0.9591 - val_loss: 0.3887 - val_accuracy: 0.9628\n",
      "Epoch 8/20\n",
      "100/100 [==============================] - 7s 68ms/step - loss: 0.3188 - accuracy: 0.9684 - val_loss: 0.6621 - val_accuracy: 0.9366\n",
      "Epoch 9/20\n",
      "100/100 [==============================] - 7s 68ms/step - loss: 0.3529 - accuracy: 0.9616 - val_loss: 0.3976 - val_accuracy: 0.9616\n",
      "Epoch 10/20\n",
      "100/100 [==============================] - 7s 68ms/step - loss: 0.3090 - accuracy: 0.9666 - val_loss: 0.5448 - val_accuracy: 0.9494\n",
      "Epoch 11/20\n",
      "100/100 [==============================] - 7s 68ms/step - loss: 0.1570 - accuracy: 0.9791 - val_loss: 0.2527 - val_accuracy: 0.9678\n",
      "Epoch 12/20\n",
      "100/100 [==============================] - 7s 68ms/step - loss: 0.1421 - accuracy: 0.9766 - val_loss: 0.4865 - val_accuracy: 0.9559\n",
      "Epoch 13/20\n",
      "100/100 [==============================] - 7s 68ms/step - loss: 0.1330 - accuracy: 0.9795 - val_loss: 0.3162 - val_accuracy: 0.9641\n",
      "Epoch 14/20\n",
      "100/100 [==============================] - 7s 70ms/step - loss: 0.1844 - accuracy: 0.9734 - val_loss: 0.4884 - val_accuracy: 0.9559\n",
      "Epoch 15/20\n",
      "100/100 [==============================] - 7s 71ms/step - loss: 0.1484 - accuracy: 0.9828 - val_loss: 0.4343 - val_accuracy: 0.9534\n",
      "Epoch 16/20\n",
      "100/100 [==============================] - 7s 72ms/step - loss: 0.1423 - accuracy: 0.9803 - val_loss: 0.3268 - val_accuracy: 0.9712\n",
      "Epoch 17/20\n",
      "100/100 [==============================] - 7s 74ms/step - loss: 0.1771 - accuracy: 0.9767 - val_loss: 0.4419 - val_accuracy: 0.9653\n",
      "Epoch 18/20\n",
      "100/100 [==============================] - 8s 75ms/step - loss: 0.1922 - accuracy: 0.9750 - val_loss: 0.4937 - val_accuracy: 0.9581\n",
      "Epoch 19/20\n",
      "100/100 [==============================] - 8s 76ms/step - loss: 0.1863 - accuracy: 0.9791 - val_loss: 0.4381 - val_accuracy: 0.9609\n",
      "Epoch 20/20\n",
      "100/100 [==============================] - 7s 71ms/step - loss: 0.1181 - accuracy: 0.9872 - val_loss: 0.4315 - val_accuracy: 0.9644\n"
     ]
    }
   ],
   "source": [
    "hist = model.fit(train_set, steps_per_epoch=100, epochs=20, validation_data=test_set, validation_steps=100)"
   ]
  },
  {
   "cell_type": "code",
   "execution_count": 11,
   "metadata": {},
   "outputs": [
    {
     "name": "stdout",
     "output_type": "stream",
     "text": [
      "Model: \"functional_1\"\n",
      "__________________________________________________________________________________________________\n",
      "Layer (type)                    Output Shape         Param #     Connected to                     \n",
      "==================================================================================================\n",
      "input_1 (InputLayer)            [(None, 48, 48, 1)]  0                                            \n",
      "__________________________________________________________________________________________________\n",
      "conv2d (Conv2D)                 (None, 48, 48, 10)   20          input_1[0][0]                    \n",
      "__________________________________________________________________________________________________\n",
      "conv2d_2 (Conv2D)               (None, 48, 48, 10)   20          input_1[0][0]                    \n",
      "__________________________________________________________________________________________________\n",
      "max_pooling2d (MaxPooling2D)    (None, 48, 48, 1)    0           input_1[0][0]                    \n",
      "__________________________________________________________________________________________________\n",
      "conv2d_1 (Conv2D)               (None, 48, 48, 10)   910         conv2d[0][0]                     \n",
      "__________________________________________________________________________________________________\n",
      "conv2d_3 (Conv2D)               (None, 48, 48, 10)   2510        conv2d_2[0][0]                   \n",
      "__________________________________________________________________________________________________\n",
      "conv2d_4 (Conv2D)               (None, 48, 48, 10)   20          max_pooling2d[0][0]              \n",
      "__________________________________________________________________________________________________\n",
      "concatenate (Concatenate)       (None, 48, 48, 30)   0           conv2d_1[0][0]                   \n",
      "                                                                 conv2d_3[0][0]                   \n",
      "                                                                 conv2d_4[0][0]                   \n",
      "__________________________________________________________________________________________________\n",
      "flatten (Flatten)               (None, 69120)        0           concatenate[0][0]                \n",
      "__________________________________________________________________________________________________\n",
      "dense (Dense)                   (None, 1200)         82945200    flatten[0][0]                    \n",
      "__________________________________________________________________________________________________\n",
      "dense_1 (Dense)                 (None, 600)          720600      dense[0][0]                      \n",
      "__________________________________________________________________________________________________\n",
      "dense_2 (Dense)                 (None, 150)          90150       dense_1[0][0]                    \n",
      "__________________________________________________________________________________________________\n",
      "dense_3 (Dense)                 (None, 10)           1510        dense_2[0][0]                    \n",
      "==================================================================================================\n",
      "Total params: 83,760,940\n",
      "Trainable params: 83,760,940\n",
      "Non-trainable params: 0\n",
      "__________________________________________________________________________________________________\n"
     ]
    }
   ],
   "source": [
    "model.summary()"
   ]
  },
  {
   "cell_type": "code",
   "execution_count": 12,
   "metadata": {},
   "outputs": [
    {
     "name": "stdout",
     "output_type": "stream",
     "text": [
      "dict_keys(['loss', 'accuracy', 'val_loss', 'val_accuracy'])\n"
     ]
    }
   ],
   "source": [
    "print(hist.history.keys())"
   ]
  },
  {
   "cell_type": "code",
   "execution_count": 18,
   "metadata": {},
   "outputs": [
    {
     "data": {
      "image/png": "[encoded data removed]",
      "text/plain": [
       "<Figure size 432x288 with 1 Axes>"
      ]
     },
     "metadata": {
      "needs_background": "light"
     },
     "output_type": "display_data"
    }
   ],
   "source": [
    "plt.plot(hist.history['accuracy'])\n",
    "plt.plot(hist.history['val_accuracy'])\n",
    "plt.title('model accuracy')\n",
    "plt.ylabel('accuracy')\n",
    "plt.xlabel('epoch')\n",
    "plt.legend(['train', 'test'], loc='lower right')\n",
    "plt.show()"
   ]
  },
  {
   "cell_type": "code",
   "execution_count": 19,
   "metadata": {},
   "outputs": [
    {
     "data": {
      "image/png": "[encoded data removed]",
      "text/plain": [
       "<Figure size 432x288 with 1 Axes>"
      ]
     },
     "metadata": {
      "needs_background": "light"
     },
     "output_type": "display_data"
    }
   ],
   "source": [
    "plt.plot(hist.history['loss'])\n",
    "plt.plot(hist.history['val_loss'])\n",
    "plt.title('Model loss')\n",
    "plt.ylabel('Loss')\n",
    "plt.xlabel('Epoch')\n",
    "plt.legend(['train', 'test'], loc = 'upper right')\n",
    "plt.show()"
   ]
  },
  {
   "cell_type": "code",
   "execution_count": 15,
   "metadata": {},
   "outputs": [
    {
     "name": "stdout",
     "output_type": "stream",
     "text": [
      "[7.8136983e-21 8.9801586e-17 1.7120331e-22 9.9999988e-01 6.8822091e-30\n",
      " 4.5539274e-32 7.9432655e-19 1.5187982e-07 8.6690686e-26 1.6634684e-27]\n"
     ]
    }
   ],
   "source": [
    "img = keras.preprocessing.image.load_img(\"30213.jpg\",color_mode = 'grayscale', target_size=(48,48,1))  ##image for 3\n",
    "\n",
    "img_array = keras.preprocessing.image.img_to_array(img)\n",
    "img_array = tf.expand_dims(img_array, 0)                   # Create batch axis\n",
    "\n",
    "predictions = model.predict(img_array)\n",
    "score1 = predictions[0]\n",
    "print(score1)"
   ]
  },
  {
   "cell_type": "code",
   "execution_count": 16,
   "metadata": {},
   "outputs": [
    {
     "name": "stdout",
     "output_type": "stream",
     "text": [
      "[1.1550408e-20 6.4151683e-23 2.8512109e-32 9.1893314e-17 0.0000000e+00\n",
      " 7.9732077e-32 2.8619413e-19 1.0000000e+00 0.0000000e+00 0.0000000e+00]\n"
     ]
    }
   ],
   "source": [
    "img = keras.preprocessing.image.load_img(\"70405.jpg\", color_mode = 'grayscale', target_size=(48,48,1))  ##image for 7\n",
    "\n",
    "img_array = keras.preprocessing.image.img_to_array(img)\n",
    "img_array = tf.expand_dims(img_array, 0)                   # Create batch axis\n",
    "\n",
    "predictions = model.predict(img_array)\n",
    "score = predictions[0]\n",
    "print(score)                      "
   ]
  },
  {
   "cell_type": "code",
   "execution_count": null,
   "metadata": {},
   "outputs": [],
   "source": []
  }
 ],
 "metadata": {
  "kernelspec": {
   "display_name": "Python 3",
   "language": "python",
   "name": "python3"
  },
  "language_info": {
   "codemirror_mode": {
    "name": "ipython",
    "version": 3
   },
   "file_extension": ".py",
   "mimetype": "text/x-python",
   "name": "python",
   "nbconvert_exporter": "python",
   "pygments_lexer": "ipython3",
   "version": "3.8.3"
  }
 },
 "nbformat": 4,
 "nbformat_minor": 4
}
